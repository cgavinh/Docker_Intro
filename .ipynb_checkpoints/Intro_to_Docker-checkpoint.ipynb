{
 "cells": [
  {
   "cell_type": "markdown",
   "id": "1a7d13e0-556a-4432-b056-e3e6e17edfb4",
   "metadata": {},
   "source": [
    "# Docker Intro\n",
    "following along with tutorial at https://www.youtube.com/watch?v=pTFZFxd4hOI"
   ]
  },
  {
   "cell_type": "markdown",
   "id": "6e9d65fd-1d9c-41a0-a4f9-65e761754168",
   "metadata": {},
   "source": [
    "# What is Docker?"
   ]
  },
  {
   "cell_type": "markdown",
   "id": "9de609b0-c97b-42e8-91c5-237812aa3b8e",
   "metadata": {},
   "source": [
    "- platform for building, running, and shipping applications in consistent manner\n",
    "- packages application and all of its dependencies\n",
    "- applications that require different versions of packages can run on the same machine\n",
    "- applications and their dependencies can be cleaned from a machine without fear of sabataging other applications on the same machine"
   ]
  },
  {
   "cell_type": "markdown",
   "id": "e5389a7f-1115-4668-b7da-905710edd614",
   "metadata": {},
   "source": [
    "# Virtual Machines vs Container"
   ]
  },
  {
   "cell_type": "markdown",
   "id": "f06959d7-cc73-49a3-8f44-480510813c90",
   "metadata": {},
   "source": [
    "- Virtual Machine: abstraction of a machine\n",
    "    - applications can be run in isolation with different dependencies on a single machine\n",
    "    - Problems\n",
    "        - each VM needs full-blown OS\n",
    "        - resource intensive (ex: RAM divided between VMs)\n",
    "- container: isolated environment for running an application\n",
    "    - also allow running multiple apps in isolation\n",
    "    - lightweight\n",
    "    - use OS of the host\n",
    "    - need less hardware resources"
   ]
  },
  {
   "cell_type": "markdown",
   "id": "9735b58e-2d30-4cfe-b1d1-6813e00ded67",
   "metadata": {},
   "source": [
    "# Docker Architecture"
   ]
  },
  {
   "cell_type": "markdown",
   "id": "66f5b92e-c824-4cc1-96f3-eba0b5d8fd2b",
   "metadata": {},
   "source": [
    "- Client-Server architecture\n",
    "- Server (AKA Docker Engine) \n",
    "- Containers host kernel as a base\n",
    "- We need to have the same base kernel as the container we want to use\n",
    "    - Windows, Linux, and Mac\n",
    "    - Windows has windows and linux kernels built in\n",
    "    - Mac has own kernel\n",
    "    - Docker on mac uses lightweight Linux VM to run linux containers"
   ]
  },
  {
   "cell_type": "markdown",
   "id": "e0de6c7f-cb95-443d-bb64-c97066f65382",
   "metadata": {},
   "source": [
    "# Installing Docker"
   ]
  },
  {
   "cell_type": "markdown",
   "id": "f04e4be8-72a6-47c4-a3ac-84a05e9f2e26",
   "metadata": {},
   "source": [
    "- Create account at Docker.com\n",
    "- download Docker for Desktop"
   ]
  },
  {
   "cell_type": "markdown",
   "id": "aaa472d9-ebee-4b67-84e8-8db784fcf931",
   "metadata": {},
   "source": [
    "```!Docker Version```"
   ]
  },
  {
   "cell_type": "raw",
   "id": "3ae8c170-965e-4eb0-abce-6bc55917cdfd",
   "metadata": {},
   "source": [
    "Client:\n",
    " Cloud integration: v1.0.29\n",
    " Version:           20.10.20\n",
    " API version:       1.41\n",
    " Go version:        go1.18.7\n",
    " Git commit:        9fdeb9c\n",
    " Built:             Tue Oct 18 18:20:35 2022\n",
    " OS/Arch:           darwin/amd64\n",
    " Context:           desktop-linux\n",
    " Experimental:      true\n",
    "\n",
    "Server: Docker Desktop 4.13.0 (89412)\n",
    " Engine:\n",
    "  Version:          20.10.20\n",
    "  API version:      1.41 (minimum version 1.12)\n",
    "  Go version:       go1.18.7\n",
    "  Git commit:       03df974\n",
    "  Built:            Tue Oct 18 18:18:35 2022\n",
    "  OS/Arch:          linux/amd64\n",
    "  Experimental:     false\n",
    " containerd:\n",
    "  Version:          1.6.8\n",
    "  GitCommit:        9cd3357b7fd7218e4aec3eae239db1f68a5a6ec6\n",
    " runc:\n",
    "  Version:          1.1.4\n",
    "  GitCommit:        v1.1.4-0-g5fd4c4d\n",
    " docker-init:\n",
    "  Version:          0.19.0\n",
    "  GitCommit:        de40ad0\n"
   ]
  },
  {
   "cell_type": "markdown",
   "id": "2ad63191-f1bc-42cd-9a8f-91944bcee727",
   "metadata": {},
   "source": [
    "# Develop Workflow"
   ]
  },
  {
   "cell_type": "markdown",
   "id": "e4343a4f-021b-4b31-a6f2-04e6424762a8",
   "metadata": {},
   "source": [
    "# Docker in Action"
   ]
  },
  {
   "cell_type": "markdown",
   "id": "c919d827-0012-4597-bbab-34e26eb6f7e5",
   "metadata": {},
   "source": [
    "- Create file \"app.js\""
   ]
  },
  {
   "cell_type": "markdown",
   "id": "32e4f4d8-b13f-4600-89f8-60cb532888d8",
   "metadata": {},
   "source": [
    "## Instructions for running app.js"
   ]
  },
  {
   "cell_type": "markdown",
   "id": "c344310f-1257-4635-8fec-cc9d13a7355c",
   "metadata": {
    "tags": []
   },
   "source": [
    "- start with OS\n",
    "- install Node\n",
    "- Copy App Files\n",
    "- run node app.js"
   ]
  },
  {
   "cell_type": "markdown",
   "id": "dd2db1e5-1ab2-4fd6-bb05-eda8fbeb9689",
   "metadata": {},
   "source": [
    "## Put instructions in DockerFile"
   ]
  },
  {
   "cell_type": "markdown",
   "id": "1529bae4-2672-4cdb-bed6-1dbcee3b8404",
   "metadata": {},
   "source": [
    "- Create file \"DockerFile\""
   ]
  },
  {
   "cell_type": "code",
   "execution_count": null,
   "id": "67a4d56f-2da4-476e-8404-211ce2dcef22",
   "metadata": {},
   "outputs": [],
   "source": []
  }
 ],
 "metadata": {
  "kernelspec": {
   "display_name": "Python 3 (ipykernel)",
   "language": "python",
   "name": "python3"
  },
  "language_info": {
   "codemirror_mode": {
    "name": "ipython",
    "version": 3
   },
   "file_extension": ".py",
   "mimetype": "text/x-python",
   "name": "python",
   "nbconvert_exporter": "python",
   "pygments_lexer": "ipython3",
   "version": "3.8.13"
  }
 },
 "nbformat": 4,
 "nbformat_minor": 5
}
